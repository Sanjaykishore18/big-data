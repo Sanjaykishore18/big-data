{
 "cells": [
  {
   "cell_type": "code",
   "execution_count": 0,
   "metadata": {
    "application/vnd.databricks.v1+cell": {
     "cellMetadata": {
      "byteLimit": 2048000,
      "rowLimit": 10000
     },
     "inputWidgets": {},
     "nuid": "72b6c210-90f6-47d1-bc8d-b256931167c3",
     "showTitle": false,
     "tableResultSettingsMap": {},
     "title": ""
    }
   },
   "outputs": [
    {
     "output_type": "stream",
     "name": "stdout",
     "output_type": "stream",
     "text": [
      "Requirement already satisfied: kagglehub in /local_disk0/.ephemeral_nfs/envs/pythonEnv-8972ce90-80a7-4720-b0f2-6a2b4644fdd2/lib/python3.12/site-packages (0.3.13)\nRequirement already satisfied: packaging in /databricks/python3/lib/python3.12/site-packages (from kagglehub) (24.1)\nRequirement already satisfied: pyyaml in /databricks/python3/lib/python3.12/site-packages (from kagglehub) (6.0.2)\nRequirement already satisfied: requests in /databricks/python3/lib/python3.12/site-packages (from kagglehub) (2.32.3)\nRequirement already satisfied: tqdm in /local_disk0/.ephemeral_nfs/envs/pythonEnv-8972ce90-80a7-4720-b0f2-6a2b4644fdd2/lib/python3.12/site-packages (from kagglehub) (4.67.1)\nRequirement already satisfied: charset-normalizer<4,>=2 in /databricks/python3/lib/python3.12/site-packages (from requests->kagglehub) (3.3.2)\nRequirement already satisfied: idna<4,>=2.5 in /databricks/python3/lib/python3.12/site-packages (from requests->kagglehub) (3.7)\nRequirement already satisfied: urllib3<3,>=1.21.1 in /databricks/python3/lib/python3.12/site-packages (from requests->kagglehub) (2.3.0)\nRequirement already satisfied: certifi>=2017.4.17 in /databricks/python3/lib/python3.12/site-packages (from requests->kagglehub) (2025.1.31)\n\u001B[43mNote: you may need to restart the kernel using %restart_python or dbutils.library.restartPython() to use updated packages.\u001B[0m\n"
     ]
    }
   ],
   "source": [
    "!pip install kagglehub"
   ]
  },
  {
   "cell_type": "code",
   "execution_count": 0,
   "metadata": {
    "application/vnd.databricks.v1+cell": {
     "cellMetadata": {
      "byteLimit": 2048000,
      "rowLimit": 10000
     },
     "inputWidgets": {},
     "nuid": "a6f2a6da-f8f2-4dba-87da-cc9251f8e29c",
     "showTitle": false,
     "tableResultSettingsMap": {},
     "title": ""
    }
   },
   "outputs": [
    {
     "output_type": "stream",
     "name": "stdout",
     "output_type": "stream",
     "text": [
      "Path to dataset files: /home/spark-8972ce90-80a7-4720-b0f2-6a/.cache/kagglehub/datasets/ziya07/healthcare-iot-data/versions/1\n"
     ]
    }
   ],
   "source": [
    "import kagglehub\n",
    "\n",
    "# Download latest version\n",
    "path = kagglehub.dataset_download(\"ziya07/healthcare-iot-data\")\n",
    "\n",
    "print(\"Path to dataset files:\", path)"
   ]
  },
  {
   "cell_type": "code",
   "execution_count": 0,
   "metadata": {
    "application/vnd.databricks.v1+cell": {
     "cellMetadata": {
      "byteLimit": 2048000,
      "rowLimit": 10000
     },
     "inputWidgets": {},
     "nuid": "ca6f7a5e-fa5d-4ba8-8d33-a1c9ea4ede4b",
     "showTitle": false,
     "tableResultSettingsMap": {},
     "title": ""
    }
   },
   "outputs": [
    {
     "output_type": "stream",
     "name": "stdout",
     "output_type": "stream",
     "text": [
      "Files in dataset path: ['healthcare_iot_target_dataset.csv']\n"
     ]
    }
   ],
   "source": [
    "import os\n",
    "\n",
    "# Check what files are inside the dataset folder\n",
    "print(\"Files in dataset path:\", os.listdir(path))"
   ]
  },
  {
   "cell_type": "code",
   "execution_count": 0,
   "metadata": {
    "application/vnd.databricks.v1+cell": {
     "cellMetadata": {
      "byteLimit": 2048000,
      "rowLimit": 10000
     },
     "inputWidgets": {},
     "nuid": "705f0e4d-dd1e-479d-8f9b-eedfd5554fdb",
     "showTitle": false,
     "tableResultSettingsMap": {},
     "title": ""
    }
   },
   "outputs": [
    {
     "output_type": "stream",
     "name": "stdout",
     "output_type": "stream",
     "text": [
      "Shape of dataset: (200, 13)\n"
     ]
    },
    {
     "output_type": "execute_result",
     "data": {
      "text/html": [
       "<div>\n",
       "<style scoped>\n",
       "    .dataframe tbody tr th:only-of-type {\n",
       "        vertical-align: middle;\n",
       "    }\n",
       "\n",
       "    .dataframe tbody tr th {\n",
       "        vertical-align: top;\n",
       "    }\n",
       "\n",
       "    .dataframe thead th {\n",
       "        text-align: right;\n",
       "    }\n",
       "</style>\n",
       "<table border=\"1\" class=\"dataframe\">\n",
       "  <thead>\n",
       "    <tr style=\"text-align: right;\">\n",
       "      <th></th>\n",
       "      <th>Patient_ID</th>\n",
       "      <th>Timestamp</th>\n",
       "      <th>Sensor_ID</th>\n",
       "      <th>Sensor_Type</th>\n",
       "      <th>Temperature (°C)</th>\n",
       "      <th>Systolic_BP (mmHg)</th>\n",
       "      <th>Diastolic_BP (mmHg)</th>\n",
       "      <th>Heart_Rate (bpm)</th>\n",
       "      <th>Device_Battery_Level (%)</th>\n",
       "      <th>Target_Blood_Pressure</th>\n",
       "      <th>Target_Heart_Rate</th>\n",
       "      <th>Target_Health_Status</th>\n",
       "      <th>Battery_Level (%)</th>\n",
       "    </tr>\n",
       "  </thead>\n",
       "  <tbody>\n",
       "    <tr>\n",
       "      <th>0</th>\n",
       "      <td>8270</td>\n",
       "      <td>2024-01-01 00:00:00</td>\n",
       "      <td>4</td>\n",
       "      <td>Temperature</td>\n",
       "      <td>36.8</td>\n",
       "      <td>150.0</td>\n",
       "      <td>95.0</td>\n",
       "      <td>84.0</td>\n",
       "      <td>99</td>\n",
       "      <td>140.0</td>\n",
       "      <td>90.0</td>\n",
       "      <td>Unhealthy</td>\n",
       "      <td>80</td>\n",
       "    </tr>\n",
       "    <tr>\n",
       "      <th>1</th>\n",
       "      <td>1860</td>\n",
       "      <td>2024-01-01 01:00:00</td>\n",
       "      <td>1</td>\n",
       "      <td>Battery</td>\n",
       "      <td>37.3</td>\n",
       "      <td>150.0</td>\n",
       "      <td>95.0</td>\n",
       "      <td>77.0</td>\n",
       "      <td>84</td>\n",
       "      <td>140.0</td>\n",
       "      <td>90.0</td>\n",
       "      <td>Unhealthy</td>\n",
       "      <td>94</td>\n",
       "    </tr>\n",
       "    <tr>\n",
       "      <th>2</th>\n",
       "      <td>6390</td>\n",
       "      <td>2024-01-01 02:00:00</td>\n",
       "      <td>1</td>\n",
       "      <td>Temperature</td>\n",
       "      <td>36.5</td>\n",
       "      <td>140.0</td>\n",
       "      <td>85.0</td>\n",
       "      <td>99.0</td>\n",
       "      <td>93</td>\n",
       "      <td>130.0</td>\n",
       "      <td>80.0</td>\n",
       "      <td>Healthy</td>\n",
       "      <td>84</td>\n",
       "    </tr>\n",
       "    <tr>\n",
       "      <th>3</th>\n",
       "      <td>6191</td>\n",
       "      <td>2024-01-01 03:00:00</td>\n",
       "      <td>4</td>\n",
       "      <td>Battery</td>\n",
       "      <td>37.3</td>\n",
       "      <td>120.0</td>\n",
       "      <td>80.0</td>\n",
       "      <td>67.0</td>\n",
       "      <td>95</td>\n",
       "      <td>150.0</td>\n",
       "      <td>90.0</td>\n",
       "      <td>Unhealthy</td>\n",
       "      <td>92</td>\n",
       "    </tr>\n",
       "    <tr>\n",
       "      <th>4</th>\n",
       "      <td>6734</td>\n",
       "      <td>2024-01-01 04:00:00</td>\n",
       "      <td>4</td>\n",
       "      <td>Temperature</td>\n",
       "      <td>36.8</td>\n",
       "      <td>90.0</td>\n",
       "      <td>60.0</td>\n",
       "      <td>98.0</td>\n",
       "      <td>97</td>\n",
       "      <td>120.0</td>\n",
       "      <td>80.0</td>\n",
       "      <td>Unhealthy</td>\n",
       "      <td>87</td>\n",
       "    </tr>\n",
       "  </tbody>\n",
       "</table>\n",
       "</div>"
      ],
      "text/plain": [
       "   Patient_ID            Timestamp  ...  Target_Health_Status Battery_Level (%)\n",
       "0        8270  2024-01-01 00:00:00  ...             Unhealthy                80\n",
       "1        1860  2024-01-01 01:00:00  ...             Unhealthy                94\n",
       "2        6390  2024-01-01 02:00:00  ...               Healthy                84\n",
       "3        6191  2024-01-01 03:00:00  ...             Unhealthy                92\n",
       "4        6734  2024-01-01 04:00:00  ...             Unhealthy                87\n",
       "\n",
       "[5 rows x 13 columns]"
      ]
     },
     "execution_count": 147,
     "metadata": {},
     "output_type": "execute_result"
    }
   ],
   "source": [
    "import pandas as pd\n",
    "\n",
    "# Replace with the actual filename you saw in os.listdir(path)\n",
    "csv_file = os.path.join(path, \"healthcare_iot_target_dataset.csv\")  \n",
    "\n",
    "df = pd.read_csv(csv_file)\n",
    "print(\"Shape of dataset:\", df.shape)\n",
    "df.head()"
   ]
  },
  {
   "cell_type": "code",
   "execution_count": 0,
   "metadata": {
    "application/vnd.databricks.v1+cell": {
     "cellMetadata": {
      "byteLimit": 2048000,
      "rowLimit": 10000
     },
     "inputWidgets": {},
     "nuid": "1751eacc-f260-4efb-b843-51417e6addbd",
     "showTitle": false,
     "tableResultSettingsMap": {},
     "title": ""
    }
   },
   "outputs": [
    {
     "output_type": "stream",
     "name": "stdout",
     "output_type": "stream",
     "text": [
      "Expanded shape: (10000, 13)\n"
     ]
    },
    {
     "output_type": "execute_result",
     "data": {
      "text/html": [
       "<div>\n",
       "<style scoped>\n",
       "    .dataframe tbody tr th:only-of-type {\n",
       "        vertical-align: middle;\n",
       "    }\n",
       "\n",
       "    .dataframe tbody tr th {\n",
       "        vertical-align: top;\n",
       "    }\n",
       "\n",
       "    .dataframe thead th {\n",
       "        text-align: right;\n",
       "    }\n",
       "</style>\n",
       "<table border=\"1\" class=\"dataframe\">\n",
       "  <thead>\n",
       "    <tr style=\"text-align: right;\">\n",
       "      <th></th>\n",
       "      <th>Patient_ID</th>\n",
       "      <th>Timestamp</th>\n",
       "      <th>Sensor_ID</th>\n",
       "      <th>Sensor_Type</th>\n",
       "      <th>Temperature (°C)</th>\n",
       "      <th>Systolic_BP (mmHg)</th>\n",
       "      <th>Diastolic_BP (mmHg)</th>\n",
       "      <th>Heart_Rate (bpm)</th>\n",
       "      <th>Device_Battery_Level (%)</th>\n",
       "      <th>Target_Blood_Pressure</th>\n",
       "      <th>Target_Heart_Rate</th>\n",
       "      <th>Target_Health_Status</th>\n",
       "      <th>Battery_Level (%)</th>\n",
       "    </tr>\n",
       "  </thead>\n",
       "  <tbody>\n",
       "    <tr>\n",
       "      <th>9995</th>\n",
       "      <td>7546</td>\n",
       "      <td>2024-01-09 03:00:00</td>\n",
       "      <td>4</td>\n",
       "      <td>Blood Pressure</td>\n",
       "      <td>37.0</td>\n",
       "      <td>130.0</td>\n",
       "      <td>85.0</td>\n",
       "      <td>81.0</td>\n",
       "      <td>81</td>\n",
       "      <td>140.0</td>\n",
       "      <td>72.0</td>\n",
       "      <td>Healthy</td>\n",
       "      <td>87</td>\n",
       "    </tr>\n",
       "    <tr>\n",
       "      <th>9996</th>\n",
       "      <td>2986</td>\n",
       "      <td>2024-01-09 04:00:00</td>\n",
       "      <td>1</td>\n",
       "      <td>Heart Rate</td>\n",
       "      <td>37.3</td>\n",
       "      <td>130.0</td>\n",
       "      <td>80.0</td>\n",
       "      <td>77.0</td>\n",
       "      <td>91</td>\n",
       "      <td>115.0</td>\n",
       "      <td>77.0</td>\n",
       "      <td>Unhealthy</td>\n",
       "      <td>94</td>\n",
       "    </tr>\n",
       "    <tr>\n",
       "      <th>9997</th>\n",
       "      <td>9338</td>\n",
       "      <td>2024-01-09 05:00:00</td>\n",
       "      <td>4</td>\n",
       "      <td>Heart Rate</td>\n",
       "      <td>36.9</td>\n",
       "      <td>140.0</td>\n",
       "      <td>90.0</td>\n",
       "      <td>84.0</td>\n",
       "      <td>91</td>\n",
       "      <td>116.0</td>\n",
       "      <td>81.0</td>\n",
       "      <td>Healthy</td>\n",
       "      <td>94</td>\n",
       "    </tr>\n",
       "    <tr>\n",
       "      <th>9998</th>\n",
       "      <td>3911</td>\n",
       "      <td>2024-01-09 06:00:00</td>\n",
       "      <td>2</td>\n",
       "      <td>Temperature</td>\n",
       "      <td>37.1</td>\n",
       "      <td>90.0</td>\n",
       "      <td>60.0</td>\n",
       "      <td>80.0</td>\n",
       "      <td>96</td>\n",
       "      <td>118.0</td>\n",
       "      <td>80.0</td>\n",
       "      <td>Healthy</td>\n",
       "      <td>83</td>\n",
       "    </tr>\n",
       "    <tr>\n",
       "      <th>9999</th>\n",
       "      <td>2734</td>\n",
       "      <td>2024-01-09 07:00:00</td>\n",
       "      <td>3</td>\n",
       "      <td>Blood Pressure</td>\n",
       "      <td>37.4</td>\n",
       "      <td>150.0</td>\n",
       "      <td>95.0</td>\n",
       "      <td>66.0</td>\n",
       "      <td>82</td>\n",
       "      <td>128.0</td>\n",
       "      <td>82.0</td>\n",
       "      <td>Unhealthy</td>\n",
       "      <td>86</td>\n",
       "    </tr>\n",
       "  </tbody>\n",
       "</table>\n",
       "</div>"
      ],
      "text/plain": [
       "      Patient_ID            Timestamp  ...  Target_Health_Status Battery_Level (%)\n",
       "9995        7546  2024-01-09 03:00:00  ...               Healthy                87\n",
       "9996        2986  2024-01-09 04:00:00  ...             Unhealthy                94\n",
       "9997        9338  2024-01-09 05:00:00  ...               Healthy                94\n",
       "9998        3911  2024-01-09 06:00:00  ...               Healthy                83\n",
       "9999        2734  2024-01-09 07:00:00  ...             Unhealthy                86\n",
       "\n",
       "[5 rows x 13 columns]"
      ]
     },
     "execution_count": 148,
     "metadata": {},
     "output_type": "execute_result"
    }
   ],
   "source": [
    "import numpy as np\n",
    "\n",
    "# Repeat dataset 50 times (adjust to reach 4000+ rows)\n",
    "expanded_df = pd.concat([df] * 50, ignore_index=True)\n",
    "\n",
    "# Add small random variations to numeric columns\n",
    "if \"Heart_Rate (bpm)\" in expanded_df.columns:\n",
    "    expanded_df[\"Heart_Rate (bpm)\"] = expanded_df[\"Heart_Rate (bpm)\"] + np.random.randint(-5, 6, size=len(expanded_df))\n",
    "\n",
    "if \"Temperature\" in expanded_df.columns:\n",
    "    expanded_df[\"Temperature\"] = expanded_df[\"Temperature\"] + np.random.uniform(-0.5, 0.5, size=len(expanded_df))\n",
    "\n",
    "if \"Device_Battery_Level (%)\" in expanded_df.columns:\n",
    "    expanded_df[\"Device_Battery_Level (%)\"] = expanded_df[\"Device_Battery_Level (%)\"] + np.random.randint(-1, 2, size=len(expanded_df))\n",
    "\n",
    "if \"Battery_Level (%)\" in expanded_df.columns:\n",
    "    expanded_df[\"Battery_Level (%)\"] = expanded_df[\"Battery_Level (%)\"] + np.random.randint(-2, 3, size=len(expanded_df))\n",
    "\n",
    "if \"Target_Heart_Rate\" in expanded_df.columns:\n",
    "    expanded_df[\"Target_Heart_Rate\"] = expanded_df[\"Target_Heart_Rate\"] + np.random.randint(-3, 4, size=len(expanded_df))\n",
    "\n",
    "if \"Target_Blood_Pressure\" in expanded_df.columns:\n",
    "    expanded_df[\"Target_Blood_Pressure\"] = expanded_df[\"Target_Blood_Pressure\"] + np.random.randint(-5, 6, size=len(expanded_df))\n",
    "\n",
    "print(\"Expanded shape:\", expanded_df.shape)\n",
    "expanded_df.tail()"
   ]
  },
  {
   "cell_type": "code",
   "execution_count": 0,
   "metadata": {
    "application/vnd.databricks.v1+cell": {
     "cellMetadata": {
      "byteLimit": 2048000,
      "rowLimit": 10000
     },
     "inputWidgets": {},
     "nuid": "b60c377a-6625-4d7a-8cb6-4ea989e78461",
     "showTitle": false,
     "tableResultSettingsMap": {},
     "title": ""
    }
   },
   "outputs": [],
   "source": [
    "# Save locally (driver node)\n",
    "expanded_df.to_csv(\"Healthcare_IoT_Expanded.csv\", index=False)\n"
   ]
  },
  {
   "cell_type": "code",
   "execution_count": 0,
   "metadata": {
    "application/vnd.databricks.v1+cell": {
     "cellMetadata": {
      "byteLimit": 2048000,
      "rowLimit": 10000
     },
     "inputWidgets": {},
     "nuid": "ef6925ae-916f-4b8b-899a-09286a56ab27",
     "showTitle": false,
     "tableResultSettingsMap": {},
     "title": ""
    }
   },
   "outputs": [
    {
     "output_type": "stream",
     "name": "stdout",
     "output_type": "stream",
     "text": [
      "Row count: 10000\n+----------+-------------------+---------+-----------+----------------+------------------+-------------------+----------------+------------------------+---------------------+-----------------+--------------------+-----------------+\n|Patient_ID|Timestamp          |Sensor_ID|Sensor_Type|Temperature (°C)|Systolic_BP (mmHg)|Diastolic_BP (mmHg)|Heart_Rate (bpm)|Device_Battery_Level (%)|Target_Blood_Pressure|Target_Heart_Rate|Target_Health_Status|Battery_Level (%)|\n+----------+-------------------+---------+-----------+----------------+------------------+-------------------+----------------+------------------------+---------------------+-----------------+--------------------+-----------------+\n|8270      |2024-01-01 00:00:00|4        |Temperature|36.8            |150.0             |95.0               |89.0            |98                      |137.0                |93.0             |Unhealthy           |78               |\n|1860      |2024-01-01 01:00:00|1        |Battery    |37.3            |150.0             |95.0               |78.0            |85                      |143.0                |92.0             |Unhealthy           |92               |\n|6390      |2024-01-01 02:00:00|1        |Temperature|36.5            |140.0             |85.0               |99.0            |94                      |127.0                |82.0             |Healthy             |86               |\n|6191      |2024-01-01 03:00:00|4        |Battery    |37.3            |120.0             |80.0               |66.0            |94                      |148.0                |89.0             |Unhealthy           |90               |\n|6734      |2024-01-01 04:00:00|4        |Temperature|36.8            |90.0              |60.0               |98.0            |98                      |122.0                |83.0             |Unhealthy           |87               |\n+----------+-------------------+---------+-----------+----------------+------------------+-------------------+----------------+------------------------+---------------------+-----------------+--------------------+-----------------+\nonly showing top 5 rows\n"
     ]
    }
   ],
   "source": [
    "# Read the CSV from your volume\n",
    "spark_df = spark.read.csv(\n",
    "    \"dbfs:/Volumes/workspace/default/my_dataset/Healthcare_IoT_Expanded.csv\",\n",
    "    header=True,\n",
    "    inferSchema=True\n",
    ")\n",
    "\n",
    "print(\"Row count:\", spark_df.count())\n",
    "spark_df.show(5, truncate=False)"
   ]
  },
  {
   "cell_type": "code",
   "execution_count": 0,
   "metadata": {
    "application/vnd.databricks.v1+cell": {
     "cellMetadata": {
      "byteLimit": 2048000,
      "rowLimit": 10000
     },
     "inputWidgets": {},
     "nuid": "690c9151-2563-499c-9653-fc4bb6fbac3b",
     "showTitle": false,
     "tableResultSettingsMap": {},
     "title": ""
    }
   },
   "outputs": [
    {
     "output_type": "stream",
     "name": "stdout",
     "output_type": "stream",
     "text": [
      "root\n |-- Patient_ID: integer (nullable = true)\n |-- Timestamp: timestamp (nullable = true)\n |-- Sensor_ID: integer (nullable = true)\n |-- Sensor_Type: string (nullable = true)\n |-- Temperature (°C): double (nullable = true)\n |-- Systolic_BP (mmHg): double (nullable = true)\n |-- Diastolic_BP (mmHg): double (nullable = true)\n |-- Heart_Rate (bpm): double (nullable = true)\n |-- Device_Battery_Level (%): integer (nullable = true)\n |-- Target_Blood_Pressure: double (nullable = true)\n |-- Target_Heart_Rate: double (nullable = true)\n |-- Target_Health_Status: string (nullable = true)\n |-- Battery_Level (%): integer (nullable = true)\n\n+-------+------------------+------------------+-----------+-----------------+------------------+-------------------+-----------------+------------------------+---------------------+-----------------+--------------------+-----------------+\n|summary|        Patient_ID|         Sensor_ID|Sensor_Type| Temperature (°C)|Systolic_BP (mmHg)|Diastolic_BP (mmHg)| Heart_Rate (bpm)|Device_Battery_Level (%)|Target_Blood_Pressure|Target_Heart_Rate|Target_Health_Status|Battery_Level (%)|\n+-------+------------------+------------------+-----------+-----------------+------------------+-------------------+-----------------+------------------------+---------------------+-----------------+--------------------+-----------------+\n|  count|             10000|             10000|      10000|            10000|             10000|              10000|            10000|                   10000|                10000|            10000|               10000|            10000|\n|   mean|          5720.335|             2.575|       NULL|37.04055555555448|             125.8|              82.45|          80.4438|                 89.4755|              132.026|          79.5902|                NULL|          89.8296|\n| stddev|2582.4486649080077|1.1638343744043251|       NULL|0.291166962484115| 19.65702520382947|  11.60865953060945|11.76444141335137|       5.735424069667903|   12.202320011430865|7.890797832224774|                NULL|6.141997741258568|\n|    min|              1064|                 1|    Battery|             36.5|              90.0|               60.0|             55.0|                      79|                115.0|             67.0|             Healthy|               78|\n|    max|              9996|                 4|Temperature|             37.5|             150.0|               95.0|            104.0|                     100|                155.0|             93.0|           Unhealthy|              102|\n+-------+------------------+------------------+-----------+-----------------+------------------+-------------------+-----------------+------------------------+---------------------+-----------------+--------------------+-----------------+\n\n"
     ]
    }
   ],
   "source": [
    "spark_df.printSchema()\n",
    "spark_df.describe().show()"
   ]
  },
  {
   "cell_type": "code",
   "execution_count": 0,
   "metadata": {
    "application/vnd.databricks.v1+cell": {
     "cellMetadata": {
      "byteLimit": 2048000,
      "rowLimit": 10000
     },
     "inputWidgets": {},
     "nuid": "4eead374-abdd-42b1-ae2f-ffa4d8e009fe",
     "showTitle": false,
     "tableResultSettingsMap": {},
     "title": ""
    }
   },
   "outputs": [
    {
     "output_type": "display_data",
     "data": {
      "text/html": [
       "<style scoped>\n",
       "  .table-result-container {\n",
       "    max-height: 300px;\n",
       "    overflow: auto;\n",
       "  }\n",
       "  table, th, td {\n",
       "    border: 1px solid black;\n",
       "    border-collapse: collapse;\n",
       "  }\n",
       "  th, td {\n",
       "    padding: 5px;\n",
       "  }\n",
       "  th {\n",
       "    text-align: left;\n",
       "  }\n",
       "</style><div class='table-result-container'><table class='table-result'><thead style='background-color: white'><tr><th>Patient_ID</th><th>Timestamp</th><th>Sensor_ID</th><th>Sensor_Type</th><th>Temperature (°C)</th><th>Systolic_BP (mmHg)</th><th>Diastolic_BP (mmHg)</th><th>Heart_Rate (bpm)</th><th>Device_Battery_Level (%)</th><th>Target_Blood_Pressure</th><th>Target_Heart_Rate</th><th>Target_Health_Status</th><th>Battery_Level (%)</th></tr></thead><tbody><tr><td>8270</td><td>2024-01-01T00:00:00.000Z</td><td>4</td><td>Temperature</td><td>36.8</td><td>150.0</td><td>95.0</td><td>89.0</td><td>98.0</td><td>137.0</td><td>93.0</td><td>Unhealthy</td><td>78.0</td></tr><tr><td>1860</td><td>2024-01-01T01:00:00.000Z</td><td>1</td><td>Battery</td><td>37.3</td><td>150.0</td><td>95.0</td><td>78.0</td><td>85.0</td><td>143.0</td><td>92.0</td><td>Unhealthy</td><td>92.0</td></tr><tr><td>6390</td><td>2024-01-01T02:00:00.000Z</td><td>1</td><td>Temperature</td><td>36.5</td><td>140.0</td><td>85.0</td><td>99.0</td><td>94.0</td><td>127.0</td><td>82.0</td><td>Healthy</td><td>86.0</td></tr><tr><td>6191</td><td>2024-01-01T03:00:00.000Z</td><td>4</td><td>Battery</td><td>37.3</td><td>120.0</td><td>80.0</td><td>66.0</td><td>94.0</td><td>148.0</td><td>89.0</td><td>Unhealthy</td><td>90.0</td></tr><tr><td>6734</td><td>2024-01-01T04:00:00.000Z</td><td>4</td><td>Temperature</td><td>36.8</td><td>90.0</td><td>60.0</td><td>98.0</td><td>98.0</td><td>122.0</td><td>83.0</td><td>Unhealthy</td><td>87.0</td></tr></tbody></table></div>"
      ]
     },
     "metadata": {
      "application/vnd.databricks.v1+output": {
       "addedWidgets": {},
       "aggData": [],
       "aggError": "",
       "aggOverflow": false,
       "aggSchema": [],
       "aggSeriesLimitReached": false,
       "aggType": "",
       "arguments": {},
       "columnCustomDisplayInfos": {},
       "data": [
        [
         8270,
         "2024-01-01T00:00:00.000Z",
         4,
         "Temperature",
         36.8,
         150.0,
         95.0,
         89.0,
         98.0,
         137.0,
         93.0,
         "Unhealthy",
         78.0
        ],
        [
         1860,
         "2024-01-01T01:00:00.000Z",
         1,
         "Battery",
         37.3,
         150.0,
         95.0,
         78.0,
         85.0,
         143.0,
         92.0,
         "Unhealthy",
         92.0
        ],
        [
         6390,
         "2024-01-01T02:00:00.000Z",
         1,
         "Temperature",
         36.5,
         140.0,
         85.0,
         99.0,
         94.0,
         127.0,
         82.0,
         "Healthy",
         86.0
        ],
        [
         6191,
         "2024-01-01T03:00:00.000Z",
         4,
         "Battery",
         37.3,
         120.0,
         80.0,
         66.0,
         94.0,
         148.0,
         89.0,
         "Unhealthy",
         90.0
        ],
        [
         6734,
         "2024-01-01T04:00:00.000Z",
         4,
         "Temperature",
         36.8,
         90.0,
         60.0,
         98.0,
         98.0,
         122.0,
         83.0,
         "Unhealthy",
         87.0
        ]
       ],
       "datasetInfos": [],
       "dbfsResultPath": null,
       "isJsonSchema": true,
       "metadata": {},
       "overflow": false,
       "plotOptions": {
        "customPlotOptions": {},
        "displayType": "table",
        "pivotAggregation": null,
        "pivotColumns": null,
        "xColumns": null,
        "yColumns": null
       },
       "removedWidgets": [],
       "schema": [
        {
         "metadata": "{}",
         "name": "Patient_ID",
         "type": "\"integer\""
        },
        {
         "metadata": "{}",
         "name": "Timestamp",
         "type": "\"timestamp\""
        },
        {
         "metadata": "{}",
         "name": "Sensor_ID",
         "type": "\"integer\""
        },
        {
         "metadata": "{}",
         "name": "Sensor_Type",
         "type": "\"string\""
        },
        {
         "metadata": "{}",
         "name": "Temperature (°C)",
         "type": "\"double\""
        },
        {
         "metadata": "{}",
         "name": "Systolic_BP (mmHg)",
         "type": "\"double\""
        },
        {
         "metadata": "{}",
         "name": "Diastolic_BP (mmHg)",
         "type": "\"double\""
        },
        {
         "metadata": "{}",
         "name": "Heart_Rate (bpm)",
         "type": "\"double\""
        },
        {
         "metadata": "{}",
         "name": "Device_Battery_Level (%)",
         "type": "\"double\""
        },
        {
         "metadata": "{}",
         "name": "Target_Blood_Pressure",
         "type": "\"double\""
        },
        {
         "metadata": "{}",
         "name": "Target_Heart_Rate",
         "type": "\"double\""
        },
        {
         "metadata": "{}",
         "name": "Target_Health_Status",
         "type": "\"string\""
        },
        {
         "metadata": "{}",
         "name": "Battery_Level (%)",
         "type": "\"double\""
        }
       ],
       "type": "table"
      }
     },
     "output_type": "display_data"
    }
   ],
   "source": [
    "from pyspark.sql import functions as F\n",
    "\n",
    "clean_df = (\n",
    "    spark_df\n",
    "    .dropna()\n",
    "    .withColumn(\"Heart_Rate (bpm)\", F.col(\"Heart_Rate (bpm)\").cast(\"double\"))\n",
    "    .withColumn(\"Temperature (°C)\", F.col(\"Temperature (°C)\").cast(\"double\"))\n",
    "    .withColumn(\"Device_Battery_Level (%)\", F.col(\"Device_Battery_Level (%)\").cast(\"double\"))\n",
    "    .withColumn(\"Battery_Level (%)\", F.col(\"Battery_Level (%)\").cast(\"double\"))\n",
    ")\n",
    "\n",
    "display(clean_df.limit(5))"
   ]
  },
  {
   "cell_type": "code",
   "execution_count": 0,
   "metadata": {
    "application/vnd.databricks.v1+cell": {
     "cellMetadata": {
      "byteLimit": 2048000,
      "rowLimit": 10000
     },
     "inputWidgets": {},
     "nuid": "69c346c1-4e3d-4d9a-8ce2-cb051415e108",
     "showTitle": false,
     "tableResultSettingsMap": {},
     "title": ""
    }
   },
   "outputs": [],
   "source": [
    "feature_df = (\n",
    "    clean_df\n",
    "    .withColumn(\"HeartRate_Deviation\", F.col(\"Heart_Rate (bpm)\") - F.col(\"Target_Heart_Rate\"))\n",
    "    .withColumn(\"Battery_Drop\", F.col(\"Target_Blood_Pressure\") - F.col(\"Battery_Level (%)\"))\n",
    ")"
   ]
  },
  {
   "cell_type": "code",
   "execution_count": 0,
   "metadata": {
    "application/vnd.databricks.v1+cell": {
     "cellMetadata": {
      "byteLimit": 2048000,
      "rowLimit": 10000
     },
     "inputWidgets": {},
     "nuid": "84517901-6e15-4013-b5e2-080f785d4ffd",
     "showTitle": false,
     "tableResultSettingsMap": {},
     "title": ""
    }
   },
   "outputs": [
    {
     "output_type": "display_data",
     "data": {
      "text/html": [
       "<style scoped>\n",
       "  .table-result-container {\n",
       "    max-height: 300px;\n",
       "    overflow: auto;\n",
       "  }\n",
       "  table, th, td {\n",
       "    border: 1px solid black;\n",
       "    border-collapse: collapse;\n",
       "  }\n",
       "  th, td {\n",
       "    padding: 5px;\n",
       "  }\n",
       "  th {\n",
       "    text-align: left;\n",
       "  }\n",
       "</style><div class='table-result-container'><table class='table-result'><thead style='background-color: white'><tr><th>Heart_Rate (bpm)</th><th>Temperature (°C)</th><th>Device_Battery_Level (%)</th><th>Anomaly</th></tr></thead><tbody><tr><td>89.0</td><td>36.8</td><td>98.0</td><td>0</td></tr><tr><td>78.0</td><td>37.3</td><td>85.0</td><td>0</td></tr><tr><td>99.0</td><td>36.5</td><td>94.0</td><td>0</td></tr><tr><td>66.0</td><td>37.3</td><td>94.0</td><td>0</td></tr><tr><td>98.0</td><td>36.8</td><td>98.0</td><td>0</td></tr><tr><td>96.0</td><td>36.6</td><td>87.0</td><td>0</td></tr><tr><td>69.0</td><td>37.04055555555555</td><td>90.0</td><td>0</td></tr><tr><td>94.0</td><td>37.1</td><td>85.0</td><td>0</td></tr><tr><td>101.0</td><td>37.4</td><td>79.0</td><td>0</td></tr><tr><td>87.0</td><td>37.2</td><td>99.0</td><td>0</td></tr></tbody></table></div>"
      ]
     },
     "metadata": {
      "application/vnd.databricks.v1+output": {
       "addedWidgets": {},
       "aggData": [],
       "aggError": "",
       "aggOverflow": false,
       "aggSchema": [],
       "aggSeriesLimitReached": false,
       "aggType": "",
       "arguments": {},
       "columnCustomDisplayInfos": {},
       "data": [
        [
         89.0,
         36.8,
         98.0,
         0
        ],
        [
         78.0,
         37.3,
         85.0,
         0
        ],
        [
         99.0,
         36.5,
         94.0,
         0
        ],
        [
         66.0,
         37.3,
         94.0,
         0
        ],
        [
         98.0,
         36.8,
         98.0,
         0
        ],
        [
         96.0,
         36.6,
         87.0,
         0
        ],
        [
         69.0,
         37.04055555555555,
         90.0,
         0
        ],
        [
         94.0,
         37.1,
         85.0,
         0
        ],
        [
         101.0,
         37.4,
         79.0,
         0
        ],
        [
         87.0,
         37.2,
         99.0,
         0
        ]
       ],
       "datasetInfos": [],
       "dbfsResultPath": null,
       "isJsonSchema": true,
       "metadata": {},
       "overflow": false,
       "plotOptions": {
        "customPlotOptions": {},
        "displayType": "table",
        "pivotAggregation": null,
        "pivotColumns": null,
        "xColumns": null,
        "yColumns": null
       },
       "removedWidgets": [],
       "schema": [
        {
         "metadata": "{}",
         "name": "Heart_Rate (bpm)",
         "type": "\"double\""
        },
        {
         "metadata": "{}",
         "name": "Temperature (°C)",
         "type": "\"double\""
        },
        {
         "metadata": "{}",
         "name": "Device_Battery_Level (%)",
         "type": "\"double\""
        },
        {
         "metadata": "{}",
         "name": "Anomaly",
         "type": "\"integer\""
        }
       ],
       "type": "table"
      }
     },
     "output_type": "display_data"
    }
   ],
   "source": [
    "anomaly_df = (\n",
    "    feature_df\n",
    "    .withColumn(\n",
    "        \"Anomaly\",\n",
    "        (\n",
    "            (F.col(\"Heart_Rate (bpm)\") > 180) |\n",
    "            (F.col(\"Heart_Rate (bpm)\") < 40) |\n",
    "            (F.col(\"Temperature (°C)\") > 39.5) |\n",
    "            (F.col(\"Temperature (°C)\") < 35.0) |\n",
    "            (F.col(\"Device_Battery_Level (%)\") < 10)\n",
    "        ).cast(\"int\")\n",
    "    )\n",
    ")\n",
    "\n",
    "display(\n",
    "    anomaly_df.select(\n",
    "        \"Heart_Rate (bpm)\",\n",
    "        \"Temperature (°C)\",\n",
    "        \"Device_Battery_Level (%)\",\n",
    "        \"Anomaly\"\n",
    "    ).limit(10)\n",
    ")"
   ]
  },
  {
   "cell_type": "code",
   "execution_count": 0,
   "metadata": {
    "application/vnd.databricks.v1+cell": {
     "cellMetadata": {
      "byteLimit": 2048000,
      "rowLimit": 10000
     },
     "inputWidgets": {},
     "nuid": "4a21c5c4-18a4-4a07-85ce-e63a5b1217c8",
     "showTitle": false,
     "tableResultSettingsMap": {},
     "title": ""
    }
   },
   "outputs": [
    {
     "output_type": "stream",
     "name": "stdout",
     "output_type": "stream",
     "text": [
      "Collecting pyod\n  Downloading pyod-2.0.5-py3-none-any.whl.metadata (46 kB)\nRequirement already satisfied: joblib in /databricks/python3/lib/python3.12/site-packages (from pyod) (1.4.2)\nRequirement already satisfied: matplotlib in /databricks/python3/lib/python3.12/site-packages (from pyod) (3.10.0)\nRequirement already satisfied: numpy>=1.19 in /databricks/python3/lib/python3.12/site-packages (from pyod) (2.1.3)\nCollecting numba>=0.51 (from pyod)\n  Downloading numba-0.62.1-cp312-cp312-manylinux_2_27_aarch64.manylinux_2_28_aarch64.whl.metadata (2.8 kB)\nRequirement already satisfied: scipy>=1.5.1 in /databricks/python3/lib/python3.12/site-packages (from pyod) (1.15.1)\nRequirement already satisfied: scikit-learn>=0.22.0 in /databricks/python3/lib/python3.12/site-packages (from pyod) (1.6.1)\nCollecting llvmlite<0.46,>=0.45.0dev0 (from numba>=0.51->pyod)\n  Downloading llvmlite-0.45.1-cp312-cp312-manylinux_2_27_aarch64.manylinux_2_28_aarch64.whl.metadata (4.9 kB)\nRequirement already satisfied: threadpoolctl>=3.1.0 in /databricks/python3/lib/python3.12/site-packages (from scikit-learn>=0.22.0->pyod) (3.5.0)\nRequirement already satisfied: contourpy>=1.0.1 in /databricks/python3/lib/python3.12/site-packages (from matplotlib->pyod) (1.3.1)\nRequirement already satisfied: cycler>=0.10 in /databricks/python3/lib/python3.12/site-packages (from matplotlib->pyod) (0.11.0)\nRequirement already satisfied: fonttools>=4.22.0 in /databricks/python3/lib/python3.12/site-packages (from matplotlib->pyod) (4.55.3)\nRequirement already satisfied: kiwisolver>=1.3.1 in /databricks/python3/lib/python3.12/site-packages (from matplotlib->pyod) (1.4.8)\nRequirement already satisfied: packaging>=20.0 in /databricks/python3/lib/python3.12/site-packages (from matplotlib->pyod) (24.1)\nRequirement already satisfied: pillow>=8 in /databricks/python3/lib/python3.12/site-packages (from matplotlib->pyod) (11.1.0)\nRequirement already satisfied: pyparsing>=2.3.1 in /databricks/python3/lib/python3.12/site-packages (from matplotlib->pyod) (3.2.0)\nRequirement already satisfied: python-dateutil>=2.7 in /databricks/python3/lib/python3.12/site-packages (from matplotlib->pyod) (2.9.0.post0)\nRequirement already satisfied: six>=1.5 in /usr/lib/python3/dist-packages (from python-dateutil>=2.7->matplotlib->pyod) (1.16.0)\nDownloading pyod-2.0.5-py3-none-any.whl (200 kB)\nDownloading numba-0.62.1-cp312-cp312-manylinux_2_27_aarch64.manylinux_2_28_aarch64.whl (3.5 MB)\n\u001B[?25l   \u001B[90m━━━━━━━━━━━━━━━━━━━━━━━━━━━━━━━━━━━━━━━━\u001B[0m \u001B[32m0.0/3.5 MB\u001B[0m \u001B[31m?\u001B[0m eta \u001B[36m-:--:--\u001B[0m\r\u001B[2K   \u001B[91m━━━━━━━━━━━━━━━━━\u001B[0m\u001B[91m╸\u001B[0m\u001B[90m━━━━━━━━━━━━━━━━━━━━━━\u001B[0m \u001B[32m1.6/3.5 MB\u001B[0m \u001B[31m8.2 MB/s\u001B[0m eta \u001B[36m0:00:01\u001B[0m\r\u001B[2K   \u001B[91m━━━━━━━━━━━━━━━━━━━━━━━━━━━━━━━━━━━━━━\u001B[0m\u001B[91m╸\u001B[0m\u001B[90m━\u001B[0m \u001B[32m3.4/3.5 MB\u001B[0m \u001B[31m8.8 MB/s\u001B[0m eta \u001B[36m0:00:01\u001B[0m\r\u001B[2K   \u001B[90m━━━━━━━━━━━━━━━━━━━━━━━━━━━━━━━━━━━━━━━━\u001B[0m \u001B[32m3.5/3.5 MB\u001B[0m \u001B[31m8.5 MB/s\u001B[0m eta \u001B[36m0:00:00\u001B[0m\n\u001B[?25hDownloading llvmlite-0.45.1-cp312-cp312-manylinux_2_27_aarch64.manylinux_2_28_aarch64.whl (55.1 MB)\n\u001B[?25l   \u001B[90m━━━━━━━━━━━━━━━━━━━━━━━━━━━━━━━━━━━━━━━━\u001B[0m \u001B[32m0.0/55.1 MB\u001B[0m \u001B[31m?\u001B[0m eta \u001B[36m-:--:--\u001B[0m\r\u001B[2K   \u001B[91m━\u001B[0m\u001B[91m╸\u001B[0m\u001B[90m━━━━━━━━━━━━━━━━━━━━━━━━━━━━━━━━━━━━━━\u001B[0m \u001B[32m2.1/55.1 MB\u001B[0m \u001B[31m10.6 MB/s\u001B[0m eta \u001B[36m0:00:06\u001B[0m\r\u001B[2K   \u001B[91m━━━\u001B[0m\u001B[90m╺\u001B[0m\u001B[90m━━━━━━━━━━━━━━━━━━━━━━━━━━━━━━━━━━━━\u001B[0m \u001B[32m4.5/55.1 MB\u001B[0m \u001B[31m11.3 MB/s\u001B[0m eta \u001B[36m0:00:05\u001B[0m\r\u001B[2K   \u001B[91m━━━━━\u001B[0m\u001B[90m╺\u001B[0m\u001B[90m━━━━━━━━━━━━━━━━━━━━━━━━━━━━━━━━━━\u001B[0m \u001B[32m7.1/55.1 MB\u001B[0m \u001B[31m12.0 MB/s\u001B[0m eta \u001B[36m0:00:05\u001B[0m\r\u001B[2K   \u001B[91m━━━━━━━\u001B[0m\u001B[90m╺\u001B[0m\u001B[90m━━━━━━━━━━━━━━━━━━━━━━━━━━━━━━━━\u001B[0m \u001B[32m10.0/55.1 MB\u001B[0m \u001B[31m12.6 MB/s\u001B[0m eta \u001B[36m0:00:04\u001B[0m\r\u001B[2K   \u001B[91m━━━━━━━━━\u001B[0m\u001B[91m╸\u001B[0m\u001B[90m━━━━━━━━━━━━━━━━━━━━━━━━━━━━━━\u001B[0m \u001B[32m13.1/55.1 MB\u001B[0m \u001B[31m13.3 MB/s\u001B[0m eta \u001B[36m0:00:04\u001B[0m\r\u001B[2K   \u001B[91m━━━━━━━━━━━\u001B[0m\u001B[91m╸\u001B[0m\u001B[90m━━━━━━━━━━━━━━━━━━━━━━━━━━━━\u001B[0m \u001B[32m16.5/55.1 MB\u001B[0m \u001B[31m13.9 MB/s\u001B[0m eta \u001B[36m0:00:03\u001B[0m\r\u001B[2K   \u001B[91m━━━━━━━━━━━━━━\u001B[0m\u001B[91m╸\u001B[0m\u001B[90m━━━━━━━━━━━━━━━━━━━━━━━━━\u001B[0m \u001B[32m20.4/55.1 MB\u001B[0m \u001B[31m14.7 MB/s\u001B[0m eta \u001B[36m0:00:03\u001B[0m\r\u001B[2K   \u001B[91m━━━━━━━━━━━━━━━━━\u001B[0m\u001B[91m╸\u001B[0m\u001B[90m━━━━━━━━━━━━━━━━━━━━━━\u001B[0m \u001B[32m24.4/55.1 MB\u001B[0m \u001B[31m15.3 MB/s\u001B[0m eta \u001B[36m0:00:03\u001B[0m\r\u001B[2K   \u001B[91m━━━━━━━━━━━━━━━━━━━━\u001B[0m\u001B[91m╸\u001B[0m\u001B[90m━━━━━━━━━━━━━━━━━━━\u001B[0m \u001B[32m28.6/55.1 MB\u001B[0m \u001B[31m15.9 MB/s\u001B[0m eta \u001B[36m0:00:02\u001B[0m\r\u001B[2K   \u001B[91m━━━━━━━━━━━━━━━━━━━━━━━━\u001B[0m\u001B[90m╺\u001B[0m\u001B[90m━━━━━━━━━━━━━━━\u001B[0m \u001B[32m33.3/55.1 MB\u001B[0m \u001B[31m16.6 MB/s\u001B[0m eta \u001B[36m0:00:02\u001B[0m\r\u001B[2K   \u001B[91m━━━━━━━━━━━━━━━━━━━━━━━━━━\u001B[0m\u001B[91m╸\u001B[0m\u001B[90m━━━━━━━━━━━━━\u001B[0m \u001B[32m36.7/55.1 MB\u001B[0m \u001B[31m16.7 MB/s\u001B[0m eta \u001B[36m0:00:02\u001B[0m\r\u001B[2K   \u001B[91m━━━━━━━━━━━━━━━━━━━━━━━━━━━━\u001B[0m\u001B[91m╸\u001B[0m\u001B[90m━━━━━━━━━━━\u001B[0m \u001B[32m39.6/55.1 MB\u001B[0m \u001B[31m16.5 MB/s\u001B[0m eta \u001B[36m0:00:01\u001B[0m\r\u001B[2K   \u001B[91m━━━━━━━━━━━━━━━━━━━━━━━━━━━━━━━━\u001B[0m\u001B[90m╺\u001B[0m\u001B[90m━━━━━━━\u001B[0m \u001B[32m44.6/55.1 MB\u001B[0m \u001B[31m17.2 MB/s\u001B[0m eta \u001B[36m0:00:01\u001B[0m\r\u001B[2K   \u001B[91m━━━━━━━━━━━━━━━━━━━━━━━━━━━━━━━━━━━━\u001B[0m\u001B[90m╺\u001B[0m\u001B[90m━━━\u001B[0m \u001B[32m49.8/55.1 MB\u001B[0m \u001B[31m17.8 MB/s\u001B[0m eta \u001B[36m0:00:01\u001B[0m\r\u001B[2K   \u001B[91m━━━━━━━━━━━━━━━━━━━━━━━━━━━━━━━━━━━━━━━\u001B[0m\u001B[91m╸\u001B[0m \u001B[32m55.1/55.1 MB\u001B[0m \u001B[31m18.4 MB/s\u001B[0m eta \u001B[36m0:00:01\u001B[0m\r\u001B[2K   \u001B[90m━━━━━━━━━━━━━━━━━━━━━━━━━━━━━━━━━━━━━━━━\u001B[0m \u001B[32m55.1/55.1 MB\u001B[0m \u001B[31m17.9 MB/s\u001B[0m eta \u001B[36m0:00:00\u001B[0m\n\u001B[?25hInstalling collected packages: llvmlite, numba, pyod\nSuccessfully installed llvmlite-0.45.1 numba-0.62.1 pyod-2.0.5\n\u001B[43mNote: you may need to restart the kernel using %restart_python or dbutils.library.restartPython() to use updated packages.\u001B[0m\n"
     ]
    },
    {
     "output_type": "stream",
     "name": "stderr",
     "output_type": "stream",
     "text": [
      "/databricks/python/lib/python3.12/site-packages/sklearn/utils/validation.py:2732: UserWarning: X has feature names, but IsolationForest was fitted without feature names\n  warnings.warn(\n"
     ]
    },
    {
     "output_type": "display_data",
     "data": {
      "text/html": [
       "<style scoped>\n",
       "  .table-result-container {\n",
       "    max-height: 300px;\n",
       "    overflow: auto;\n",
       "  }\n",
       "  table, th, td {\n",
       "    border: 1px solid black;\n",
       "    border-collapse: collapse;\n",
       "  }\n",
       "  th, td {\n",
       "    padding: 5px;\n",
       "  }\n",
       "  th {\n",
       "    text-align: left;\n",
       "  }\n",
       "</style><div class='table-result-container'><table class='table-result'><thead style='background-color: white'><tr><th>Heart_Rate (bpm)</th><th>Temperature (°C)</th><th>Device_Battery_Level (%)</th><th>Battery_Level (%)</th><th>anomaly</th></tr></thead><tbody><tr><td>89.0</td><td>36.8</td><td>98.0</td><td>78.0</td><td>1</td></tr><tr><td>78.0</td><td>37.3</td><td>85.0</td><td>92.0</td><td>0</td></tr><tr><td>99.0</td><td>36.5</td><td>94.0</td><td>86.0</td><td>0</td></tr><tr><td>66.0</td><td>37.3</td><td>94.0</td><td>90.0</td><td>0</td></tr><tr><td>98.0</td><td>36.8</td><td>98.0</td><td>87.0</td><td>0</td></tr><tr><td>96.0</td><td>36.6</td><td>87.0</td><td>85.0</td><td>0</td></tr><tr><td>69.0</td><td>37.04055555555555</td><td>90.0</td><td>82.0</td><td>0</td></tr><tr><td>94.0</td><td>37.1</td><td>85.0</td><td>86.0</td><td>0</td></tr><tr><td>101.0</td><td>37.4</td><td>79.0</td><td>81.0</td><td>1</td></tr><tr><td>87.0</td><td>37.2</td><td>99.0</td><td>84.0</td><td>0</td></tr></tbody></table></div>"
      ]
     },
     "metadata": {
      "application/vnd.databricks.v1+output": {
       "addedWidgets": {},
       "aggData": [],
       "aggError": "",
       "aggOverflow": false,
       "aggSchema": [],
       "aggSeriesLimitReached": false,
       "aggType": "",
       "arguments": {},
       "columnCustomDisplayInfos": {},
       "data": [
        [
         89.0,
         36.8,
         98.0,
         78.0,
         1
        ],
        [
         78.0,
         37.3,
         85.0,
         92.0,
         0
        ],
        [
         99.0,
         36.5,
         94.0,
         86.0,
         0
        ],
        [
         66.0,
         37.3,
         94.0,
         90.0,
         0
        ],
        [
         98.0,
         36.8,
         98.0,
         87.0,
         0
        ],
        [
         96.0,
         36.6,
         87.0,
         85.0,
         0
        ],
        [
         69.0,
         37.04055555555555,
         90.0,
         82.0,
         0
        ],
        [
         94.0,
         37.1,
         85.0,
         86.0,
         0
        ],
        [
         101.0,
         37.4,
         79.0,
         81.0,
         1
        ],
        [
         87.0,
         37.2,
         99.0,
         84.0,
         0
        ]
       ],
       "datasetInfos": [],
       "dbfsResultPath": null,
       "isJsonSchema": true,
       "metadata": {},
       "overflow": false,
       "plotOptions": {
        "customPlotOptions": {},
        "displayType": "table",
        "pivotAggregation": null,
        "pivotColumns": null,
        "xColumns": null,
        "yColumns": null
       },
       "removedWidgets": [],
       "schema": [
        {
         "metadata": "{}",
         "name": "Heart_Rate (bpm)",
         "type": "\"double\""
        },
        {
         "metadata": "{}",
         "name": "Temperature (°C)",
         "type": "\"double\""
        },
        {
         "metadata": "{}",
         "name": "Device_Battery_Level (%)",
         "type": "\"double\""
        },
        {
         "metadata": "{}",
         "name": "Battery_Level (%)",
         "type": "\"double\""
        },
        {
         "metadata": "{}",
         "name": "anomaly",
         "type": "\"long\""
        }
       ],
       "type": "table"
      }
     },
     "output_type": "display_data"
    }
   ],
   "source": [
    "# Install PyOD\n",
    "%pip install pyod\n",
    "\n",
    "import pandas as pd\n",
    "from pyod.models.iforest import IForest\n",
    "\n",
    "# Convert Spark DataFrame to Pandas DataFrame\n",
    "pdf = clean_df.select(\n",
    "    \"Heart_Rate (bpm)\",\n",
    "    \"Temperature (°C)\",\n",
    "    \"Device_Battery_Level (%)\",\n",
    "    \"Battery_Level (%)\"\n",
    ").toPandas()\n",
    "\n",
    "# Fit Isolation Forest\n",
    "clf = IForest(contamination=0.05)\n",
    "clf.fit(pdf)\n",
    "\n",
    "# Predict anomalies\n",
    "pdf['anomaly'] = clf.predict(pdf)\n",
    "\n",
    "# Convert back to Spark DataFrame for display\n",
    "result_df = spark.createDataFrame(pdf)\n",
    "display(result_df.limit(10))"
   ]
  },
  {
   "cell_type": "code",
   "execution_count": 0,
   "metadata": {
    "application/vnd.databricks.v1+cell": {
     "cellMetadata": {
      "byteLimit": 2048000,
      "rowLimit": 10000
     },
     "inputWidgets": {},
     "nuid": "a53769db-0110-41b7-adc3-d2e63d9980f6",
     "showTitle": false,
     "tableResultSettingsMap": {},
     "title": ""
    }
   },
   "outputs": [],
   "source": [
    "anomaly_df_clean = anomaly_df.selectExpr(\n",
    "    \"cast(`Temperature (°C)` as double) as Temperature_C\",\n",
    "    \"cast(`Systolic_BP (mmHg)` as double) as Systolic_BP_mmHg\",\n",
    "    \"cast(`Diastolic_BP (mmHg)` as double) as Diastolic_BP_mmHg\",\n",
    "    \"cast(`Heart_Rate (bpm)` as double) as Heart_Rate_bpm\",\n",
    "    \"cast(`Device_Battery_Level (%)` as double) as Device_Battery_Level_pct\",\n",
    "    \"cast(`Battery_Level (%)` as double) as Battery_Level_pct\"\n",
    "    # Add other columns as needed, renaming them similarly\n",
    ")\n",
    "\n",
    "anomaly_df_clean.write.mode(\"overwrite\").saveAsTable(\"workspace.default.iot_anomalies\")"
   ]
  },
  {
   "cell_type": "code",
   "execution_count": 0,
   "metadata": {
    "application/vnd.databricks.v1+cell": {
     "cellMetadata": {
      "byteLimit": 2048000,
      "rowLimit": 10000
     },
     "inputWidgets": {},
     "nuid": "a2a59731-c092-43d9-81da-5da198927a55",
     "showTitle": false,
     "tableResultSettingsMap": {},
     "title": ""
    }
   },
   "outputs": [],
   "source": [
    "stream_df = (\n",
    "    spark.readStream\n",
    "    .schema(clean_df.schema)\n",
    "    .option(\"maxFilesPerTrigger\", 1)\n",
    "    .csv(\"dbfs:/Volumes/workspace/default/my_dataset/\")\n",
    ")\n",
    "\n",
    "stream_anomaly = (\n",
    "    stream_df\n",
    "    .withColumn(\"Anomaly\",\n",
    "        ( (F.col(\"Heart_Rate (bpm)\") > 180) |\n",
    "          (F.col(\"Heart_Rate (bpm)\") < 40) |\n",
    "          (F.col(\"Temperature (°C)\") > 39.5) |\n",
    "          (F.col(\"Temperature (°C)\") < 35.0) |\n",
    "          (F.col(\"Device_Battery_Level (%)\") < 10) )\n",
    "        .cast(\"int\")\n",
    "    )\n",
    ")\n",
    "\n",
    "query = (\n",
    "    stream_anomaly.writeStream\n",
    "    .format(\"console\")\n",
    "    .outputMode(\"append\")\n",
    "    .option(\n",
    "        \"checkpointLocation\",\n",
    "        \"dbfs:/Volumes/workspace/default/streaming_checkpoints/iot_anomaly_console\"\n",
    "    )\n",
    "    .trigger(once=True)\n",
    "    .start()\n",
    ")\n",
    "\n"
   ]
  }
 ],
 "metadata": {
  "application/vnd.databricks.v1+notebook": {
   "computePreferences": null,
   "dashboards": [],
   "environmentMetadata": {
    "base_environment": "",
    "environment_version": "4"
   },
   "inputWidgetPreferences": null,
   "language": "python",
   "notebookMetadata": {
    "pythonIndentUnit": 4
   },
   "notebookName": "big data",
   "widgets": {}
  },
  "language_info": {
   "name": "python"
  }
 },
 "nbformat": 4,
 "nbformat_minor": 0
}